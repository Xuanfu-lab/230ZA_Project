{
 "cells": [
  {
   "cell_type": "code",
   "execution_count": 44,
   "metadata": {},
   "outputs": [],
   "source": [
    "import numpy as np\n",
    "import pandas as pd\n",
    "from typing import List,Union\n",
    "from matplotlib import pyplot as plt\n",
    "from numba import jit\n",
    "import numba\n",
    "\n",
    "#data = pd.read_csv(\"./optimized_weight_example.csv\")\n",
    "\n",
    "def pnl_stats(data:pd.DataFrame,plot_bool:bool=False,type_str:str=\"sharpe\"):\n",
    "    #If you want to plot, please set plot_bool as true\n",
    "    #If you want the entropy, please set type_str as other\n",
    "    data[\"ret\"] = data.groupby(\"Ticker\")[\"Price\"].transform(lambda x: x.shift(-1)/x -1)\n",
    "    data[\"pnl\"] = data[\"ret\"]*data[\"Weight\"]\n",
    "    pnl = data.groupby(\"Date\").apply(lambda x: np.sum(x[\"pnl\"]))\n",
    "    pnl.index = pd.to_datetime(pnl.index).strftime(\"%Y%m%d\").astype(int)\n",
    "    if type_str==\"sharpe\":\n",
    "        return pnl.mean()/pnl.std()\n",
    "    def max_drawdown(pnl):\n",
    "        m_drawdown = np.max(np.maximum.accumulate(pnl)-pnl)\n",
    "        return m_drawdown\n",
    "    \n",
    "    if plot_bool:\n",
    "        x = pnl.index.astype(str)\n",
    "        plt.figure(figsize=(20,10))\n",
    "        plt.plot(x,(pnl*100).cumsum().values, label='cumsum pnl')\n",
    "        plt.xticks(pnl.groupby(pnl.index//100).head(1).index.astype(str),rotation=45)\n",
    "        plt.legend()\n",
    "        plt.ylabel(\"cumulative pnl / percent\")\n",
    "        plt.xticks(rotation=90)\n",
    "        plt.show()      \n",
    "        print(\"post Maxmium Drawdown: /percent\",float(max_drawdown(pnl.cumsum())*100))\n",
    "\n",
    "    def exp_entropy():\n",
    "        return data.groupby(\"Date\")[\"Weight\"].transform(lambda x: np.exp(-np.sum(x*np.log(x))))\n",
    "    data[\"exp_entropy\"] = data.groupby(\"Date\")[\"Weight\"].transform(lambda x: np.exp(-np.sum(x*np.log(x))))\n",
    "    return data\n",
    "\n"
   ]
  }
 ],
 "metadata": {
  "kernelspec": {
   "display_name": "py39",
   "language": "python",
   "name": "python3"
  },
  "language_info": {
   "codemirror_mode": {
    "name": "ipython",
    "version": 3
   },
   "file_extension": ".py",
   "mimetype": "text/x-python",
   "name": "python",
   "nbconvert_exporter": "python",
   "pygments_lexer": "ipython3",
   "version": "3.9.16"
  },
  "orig_nbformat": 4
 },
 "nbformat": 4,
 "nbformat_minor": 2
}

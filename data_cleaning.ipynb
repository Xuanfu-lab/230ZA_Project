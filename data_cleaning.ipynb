{
 "cells": [
  {
   "cell_type": "code",
   "execution_count": 1,
   "id": "bf4cd0b5-33bd-4e99-8879-0061e4816e16",
   "metadata": {
    "tags": []
   },
   "outputs": [],
   "source": [
    "import numpy as np\n",
    "import pandas as pd\n",
    "import os"
   ]
  },
  {
   "cell_type": "code",
   "execution_count": 3,
   "id": "fdd586fa-6cc4-46af-ac7c-4ab30822fce7",
   "metadata": {
    "tags": []
   },
   "outputs": [],
   "source": [
    "# folder_path = \"data_raw/daily\"\n",
    "# dataframes = []\n",
    "\n",
    "# for file_name in os.listdir(folder_path):\n",
    "#     if file_name.endswith(\".xlsx\"):\n",
    "#         file_path = os.path.join(folder_path, file_name)\n",
    "#         df = pd.read_excel(file_path, skiprows=6)\n",
    "#         df['Ticker'] = file_name[:-5]  # Add a column with the file name\n",
    "#         dataframes.append(df)\n",
    "        \n",
    "# concatenated_df = pd.concat(dataframes, ignore_index=True)\n",
    "# concatenated_df = concatenated_df.rename(columns={\"PX_LAST\": \"Price\", \"PX_VOLUME\": \"Volume\"})\n",
    "# concatenated_df.dropna(subset=['Price'], inplace=True)\n",
    "# concatenated_df"
   ]
  },
  {
   "cell_type": "code",
   "execution_count": 2,
   "id": "79488cd5-b974-4d88-98c3-846b2f72d090",
   "metadata": {
    "tags": []
   },
   "outputs": [],
   "source": [
    "# concatenated_df.to_csv(\"data_clean/long_format_daily.csv\", index=False)"
   ]
  },
  {
   "cell_type": "code",
   "execution_count": 5,
   "id": "a9f0f995-c04a-40cd-9351-2a8d79e8dd05",
   "metadata": {
    "tags": []
   },
   "outputs": [
    {
     "data": {
      "text/html": [
       "<div>\n",
       "<style scoped>\n",
       "    .dataframe tbody tr th:only-of-type {\n",
       "        vertical-align: middle;\n",
       "    }\n",
       "\n",
       "    .dataframe tbody tr th {\n",
       "        vertical-align: top;\n",
       "    }\n",
       "\n",
       "    .dataframe thead th {\n",
       "        text-align: right;\n",
       "    }\n",
       "</style>\n",
       "<table border=\"1\" class=\"dataframe\">\n",
       "  <thead>\n",
       "    <tr style=\"text-align: right;\">\n",
       "      <th></th>\n",
       "      <th>Date</th>\n",
       "      <th>Price</th>\n",
       "      <th>Volume</th>\n",
       "      <th>Ticker</th>\n",
       "    </tr>\n",
       "  </thead>\n",
       "  <tbody>\n",
       "    <tr>\n",
       "      <th>0</th>\n",
       "      <td>2023-05-23</td>\n",
       "      <td>2087.940</td>\n",
       "      <td>NaN</td>\n",
       "      <td>AGG</td>\n",
       "    </tr>\n",
       "    <tr>\n",
       "      <th>1</th>\n",
       "      <td>2023-05-22</td>\n",
       "      <td>2086.200</td>\n",
       "      <td>NaN</td>\n",
       "      <td>AGG</td>\n",
       "    </tr>\n",
       "    <tr>\n",
       "      <th>2</th>\n",
       "      <td>2023-05-19</td>\n",
       "      <td>2087.180</td>\n",
       "      <td>NaN</td>\n",
       "      <td>AGG</td>\n",
       "    </tr>\n",
       "    <tr>\n",
       "      <th>3</th>\n",
       "      <td>2023-05-18</td>\n",
       "      <td>2092.610</td>\n",
       "      <td>NaN</td>\n",
       "      <td>AGG</td>\n",
       "    </tr>\n",
       "    <tr>\n",
       "      <th>4</th>\n",
       "      <td>2023-05-17</td>\n",
       "      <td>2102.590</td>\n",
       "      <td>NaN</td>\n",
       "      <td>AGG</td>\n",
       "    </tr>\n",
       "    <tr>\n",
       "      <th>...</th>\n",
       "      <td>...</td>\n",
       "      <td>...</td>\n",
       "      <td>...</td>\n",
       "      <td>...</td>\n",
       "    </tr>\n",
       "    <tr>\n",
       "      <th>25993</th>\n",
       "      <td>2001-06-06</td>\n",
       "      <td>58.420</td>\n",
       "      <td>557000.0</td>\n",
       "      <td>VTI</td>\n",
       "    </tr>\n",
       "    <tr>\n",
       "      <th>25994</th>\n",
       "      <td>2001-06-05</td>\n",
       "      <td>58.905</td>\n",
       "      <td>1124800.0</td>\n",
       "      <td>VTI</td>\n",
       "    </tr>\n",
       "    <tr>\n",
       "      <th>25995</th>\n",
       "      <td>2001-06-04</td>\n",
       "      <td>58.025</td>\n",
       "      <td>2036400.0</td>\n",
       "      <td>VTI</td>\n",
       "    </tr>\n",
       "    <tr>\n",
       "      <th>25996</th>\n",
       "      <td>2001-06-01</td>\n",
       "      <td>57.785</td>\n",
       "      <td>5084400.0</td>\n",
       "      <td>VTI</td>\n",
       "    </tr>\n",
       "    <tr>\n",
       "      <th>25997</th>\n",
       "      <td>2001-05-31</td>\n",
       "      <td>57.400</td>\n",
       "      <td>4914400.0</td>\n",
       "      <td>VTI</td>\n",
       "    </tr>\n",
       "  </tbody>\n",
       "</table>\n",
       "<p>25998 rows × 4 columns</p>\n",
       "</div>"
      ],
      "text/plain": [
       "            Date     Price     Volume Ticker\n",
       "0     2023-05-23  2087.940        NaN    AGG\n",
       "1     2023-05-22  2086.200        NaN    AGG\n",
       "2     2023-05-19  2087.180        NaN    AGG\n",
       "3     2023-05-18  2092.610        NaN    AGG\n",
       "4     2023-05-17  2102.590        NaN    AGG\n",
       "...          ...       ...        ...    ...\n",
       "25993 2001-06-06    58.420   557000.0    VTI\n",
       "25994 2001-06-05    58.905  1124800.0    VTI\n",
       "25995 2001-06-04    58.025  2036400.0    VTI\n",
       "25996 2001-06-01    57.785  5084400.0    VTI\n",
       "25997 2001-05-31    57.400  4914400.0    VTI\n",
       "\n",
       "[25998 rows x 4 columns]"
      ]
     },
     "execution_count": 5,
     "metadata": {},
     "output_type": "execute_result"
    }
   ],
   "source": [
    "folder_path = \"data_raw/paper_data\"\n",
    "dataframes = []\n",
    "\n",
    "for file_name in os.listdir(folder_path):\n",
    "    if file_name.endswith(\".xlsx\"):\n",
    "        file_path = os.path.join(folder_path, file_name)\n",
    "        df = pd.read_excel(file_path, skiprows=6)\n",
    "        df['Ticker'] = file_name[:-5]  # Add a column with the file name\n",
    "        dataframes.append(df)\n",
    "        \n",
    "concatenated_df = pd.concat(dataframes, ignore_index=True)\n",
    "concatenated_df = concatenated_df.rename(columns={\"PX_LAST\": \"Price\", \"PX_VOLUME\": \"Volume\"})\n",
    "concatenated_df.dropna(subset=['Price'], inplace=True)\n",
    "concatenated_df"
   ]
  },
  {
   "cell_type": "code",
   "execution_count": 6,
   "id": "1f9622c4-4e8e-4637-bb1c-4cf8963792b9",
   "metadata": {
    "tags": []
   },
   "outputs": [],
   "source": [
    "concatenated_df.to_csv(\"data_clean/long_format_daily_original_paper_data.csv\", index=False)"
   ]
  }
 ],
 "metadata": {
  "kernelspec": {
   "display_name": "Python 3 (ipykernel)",
   "language": "python",
   "name": "python3"
  },
  "language_info": {
   "codemirror_mode": {
    "name": "ipython",
    "version": 3
   },
   "file_extension": ".py",
   "mimetype": "text/x-python",
   "name": "python",
   "nbconvert_exporter": "python",
   "pygments_lexer": "ipython3",
   "version": "3.9.17"
  }
 },
 "nbformat": 4,
 "nbformat_minor": 5
}
